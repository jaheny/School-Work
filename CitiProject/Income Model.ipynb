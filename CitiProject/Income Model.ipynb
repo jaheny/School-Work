{
 "cells": [
  {
   "cell_type": "code",
   "execution_count": 6,
   "metadata": {},
   "outputs": [],
   "source": [
    "#model change doc in page 6 / 7 revised one. -small business #US retail MMDA Champion Model!\n",
    "import pandas as pd\n",
    "import matplotlib.pyplot as plt\n",
    "import numpy as np\n",
    "\n",
    "dataFrame= pd.read_csv('incomeModel.csv')\n",
    "time = dataFrame[\"Time\"]\n",
    "US_EQ_SP500E_NoD2 = dataFrame[\"SP500\"]\n",
    "US_E_RGDPL_QoQL2 = dataFrame[\"RealGDP\"]\n",
    "mma_cdm_cr_s_NoD2 = dataFrame[\"CDMCRS\"]\n",
    "mma_cds_cr_s_NoD3L1 = dataFrame[\"CDSCRS\"]\n",
    "mma_cr_wamp_s_NoD3 = dataFrame[\"CRWAMP\"]\n",
    "mma_cr_3ml_s_NoD3L3 = dataFrame[\"CR3ML\"]"
   ]
  },
  {
   "cell_type": "code",
   "execution_count": 3,
   "metadata": {},
   "outputs": [],
   "source": [
    "balanceChange = 120788712.0 + 1818996.0 * US_EQ_SP500E_NoD2 + 48023654 * US_E_RGDPL_QoQL2 + 674953341 * mma_cdm_cr_s_NoD2 \\\n",
    "+ 410065266 * mma_cds_cr_s_NoD3L1 + 829719122 * mma_cr_wamp_s_NoD3 + 374414882 * mma_cr_3ml_s_NoD3L3"
   ]
  },
  {
   "cell_type": "code",
   "execution_count": 4,
   "metadata": {},
   "outputs": [],
   "source": [
    "newDataFrame = pd.DataFrame(data = balanceChange)"
   ]
  },
  {
   "cell_type": "code",
   "execution_count": 5,
   "metadata": {},
   "outputs": [],
   "source": [
    "newDataFrame['Time'] = time"
   ]
  },
  {
   "cell_type": "code",
   "execution_count": 6,
   "metadata": {},
   "outputs": [],
   "source": [
    "newDataFrame.columns = [\"Balance Change\", \"Date\"]"
   ]
  },
  {
   "cell_type": "code",
   "execution_count": 7,
   "metadata": {},
   "outputs": [],
   "source": [
    "initialBalance = 71867928175 # 2016 Dec\n",
    "predictedBalance = [initialBalance]\n",
    "for i in range(36, 72):\n",
    "    predictedBalance.append(predictedBalance[-1] + newDataFrame.iloc[i][0])"
   ]
  },
  {
   "cell_type": "code",
   "execution_count": 8,
   "metadata": {},
   "outputs": [],
   "source": [
    "balanceDataFrame = pd.DataFrame(data = predictedBalance)\n",
    "balanceDataFrame.columns = [\"Balance\"]\n",
    "newTime = []\n",
    "for i in range(len(time[36:]) + 1):\n",
    "    newTime.append(time[35 + i])\n",
    "\n",
    "balanceDataFrame[\"Date\"] = pd.DataFrame(data = newTime)"
   ]
  },
  {
   "cell_type": "code",
   "execution_count": 19,
   "metadata": {},
   "outputs": [],
   "source": [
    "balanceDataFrame.to_csv(\"aaa.csv\")"
   ]
  },
  {
   "cell_type": "code",
   "execution_count": 7,
   "metadata": {},
   "outputs": [],
   "source": [
    "# pg400 model in page 26 - TTS in \"US TTS IB 152\"\n",
    "ttsDataFrame = pd.read_csv('TTSIncomeModel.csv')[6:]\n",
    "spread = ttsDataFrame[\"spread\"]\n",
    "RGDP = ttsDataFrame[\"ttsRGDP\"]"
   ]
  },
  {
   "cell_type": "code",
   "execution_count": 8,
   "metadata": {},
   "outputs": [],
   "source": [
    "tts_change = -43455063 + 6885507 * RGDP + 939720411 * spread"
   ]
  },
  {
   "cell_type": "code",
   "execution_count": 11,
   "metadata": {},
   "outputs": [],
   "source": [
    "initialBalance = 85531000000 # 2016 Dec\n",
    "ttspredictedBalance = [initialBalance] #2016 Dec -> 2019 Dec\n",
    "for i in range(36, 72):\n",
    "    ttspredictedBalance.append(ttspredictedBalance[-1] + tts_change[i - 6])"
   ]
  },
  {
   "cell_type": "code",
   "execution_count": 12,
   "metadata": {},
   "outputs": [],
   "source": [
    "ttsbalanceDataFrame = pd.DataFrame(data = ttspredictedBalance)\n",
    "ttsbalanceDataFrame.columns = [\"Balance\"]\n",
    "dataFrame= pd.read_csv('incomeModel.csv')\n",
    "time = dataFrame[\"Time\"]\n",
    "newTime = []\n",
    "for i in range(len(time[36:]) + 1):\n",
    "    newTime.append(time[35 + i])\n",
    "\n",
    "ttsbalanceDataFrame[\"Date\"] = pd.DataFrame(data = newTime)\n",
    "ttsbalanceDataFrame.to_csv(\"ttsIncomeModelResult.csv\")"
   ]
  },
  {
   "cell_type": "code",
   "execution_count": null,
   "metadata": {},
   "outputs": [],
   "source": []
  }
 ],
 "metadata": {
  "kernelspec": {
   "display_name": "Python 3",
   "language": "python",
   "name": "python3"
  },
  "language_info": {
   "codemirror_mode": {
    "name": "ipython",
    "version": 3
   },
   "file_extension": ".py",
   "mimetype": "text/x-python",
   "name": "python",
   "nbconvert_exporter": "python",
   "pygments_lexer": "ipython3",
   "version": "3.6.5"
  }
 },
 "nbformat": 4,
 "nbformat_minor": 2
}
